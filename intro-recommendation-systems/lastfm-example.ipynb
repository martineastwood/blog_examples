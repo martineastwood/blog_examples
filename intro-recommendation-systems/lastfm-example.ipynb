{
 "cells": [
  {
   "cell_type": "code",
   "execution_count": null,
   "metadata": {},
   "outputs": [],
   "source": [
    "! wget http://mtg.upf.edu/static/datasets/last.fm/lastfm-dataset-360K.tar.gz"
   ]
  },
  {
   "cell_type": "code",
   "execution_count": null,
   "metadata": {},
   "outputs": [],
   "source": [
    "!tar -xf lastfm-dataset-360K.tar.gz"
   ]
  },
  {
   "cell_type": "code",
   "execution_count": 1,
   "metadata": {},
   "outputs": [],
   "source": [
    "import numpy as np\n",
    "from scipy import sparse"
   ]
  },
  {
   "cell_type": "code",
   "execution_count": 2,
   "metadata": {},
   "outputs": [
    {
     "data": {
      "text/html": [
       "<div>\n",
       "<style scoped>\n",
       "    .dataframe tbody tr th:only-of-type {\n",
       "        vertical-align: middle;\n",
       "    }\n",
       "\n",
       "    .dataframe tbody tr th {\n",
       "        vertical-align: top;\n",
       "    }\n",
       "\n",
       "    .dataframe thead th {\n",
       "        text-align: right;\n",
       "    }\n",
       "</style>\n",
       "<table border=\"1\" class=\"dataframe\">\n",
       "  <thead>\n",
       "    <tr style=\"text-align: right;\">\n",
       "      <th></th>\n",
       "      <th>user-mboxsha1</th>\n",
       "      <th>musicbrainz-artist-id</th>\n",
       "      <th>artist-name</th>\n",
       "      <th>plays</th>\n",
       "    </tr>\n",
       "  </thead>\n",
       "  <tbody>\n",
       "    <tr>\n",
       "      <th>0</th>\n",
       "      <td>00000c289a1829a808ac09c00daf10bc3c4e223b</td>\n",
       "      <td>3bd73256-3905-4f3a-97e2-8b341527f805</td>\n",
       "      <td>betty blowtorch</td>\n",
       "      <td>2137</td>\n",
       "    </tr>\n",
       "    <tr>\n",
       "      <th>1</th>\n",
       "      <td>00000c289a1829a808ac09c00daf10bc3c4e223b</td>\n",
       "      <td>f2fb0ff0-5679-42ec-a55c-15109ce6e320</td>\n",
       "      <td>die Ärzte</td>\n",
       "      <td>1099</td>\n",
       "    </tr>\n",
       "    <tr>\n",
       "      <th>2</th>\n",
       "      <td>00000c289a1829a808ac09c00daf10bc3c4e223b</td>\n",
       "      <td>b3ae82c2-e60b-4551-a76d-6620f1b456aa</td>\n",
       "      <td>melissa etheridge</td>\n",
       "      <td>897</td>\n",
       "    </tr>\n",
       "    <tr>\n",
       "      <th>3</th>\n",
       "      <td>00000c289a1829a808ac09c00daf10bc3c4e223b</td>\n",
       "      <td>3d6bbeb7-f90e-4d10-b440-e153c0d10b53</td>\n",
       "      <td>elvenking</td>\n",
       "      <td>717</td>\n",
       "    </tr>\n",
       "    <tr>\n",
       "      <th>4</th>\n",
       "      <td>00000c289a1829a808ac09c00daf10bc3c4e223b</td>\n",
       "      <td>bbd2ffd7-17f4-4506-8572-c1ea58c3f9a8</td>\n",
       "      <td>juliette &amp; the licks</td>\n",
       "      <td>706</td>\n",
       "    </tr>\n",
       "    <tr>\n",
       "      <th>...</th>\n",
       "      <td>...</td>\n",
       "      <td>...</td>\n",
       "      <td>...</td>\n",
       "      <td>...</td>\n",
       "    </tr>\n",
       "    <tr>\n",
       "      <th>17535650</th>\n",
       "      <td>sep 20, 2008</td>\n",
       "      <td>7ffd711a-b34d-4739-8aab-25e045c246da</td>\n",
       "      <td>turbostaat</td>\n",
       "      <td>12</td>\n",
       "    </tr>\n",
       "    <tr>\n",
       "      <th>17535651</th>\n",
       "      <td>sep 20, 2008</td>\n",
       "      <td>9201190d-409f-426b-9339-9bd7492443e2</td>\n",
       "      <td>cuba missouri</td>\n",
       "      <td>11</td>\n",
       "    </tr>\n",
       "    <tr>\n",
       "      <th>17535652</th>\n",
       "      <td>sep 20, 2008</td>\n",
       "      <td>e7cf7ff9-ed2f-4315-aca8-bcbd3b2bfa71</td>\n",
       "      <td>little man tate</td>\n",
       "      <td>11</td>\n",
       "    </tr>\n",
       "    <tr>\n",
       "      <th>17535653</th>\n",
       "      <td>sep 20, 2008</td>\n",
       "      <td>f6f2326f-6b25-4170-b89d-e235b25508e8</td>\n",
       "      <td>sigur rós</td>\n",
       "      <td>10</td>\n",
       "    </tr>\n",
       "    <tr>\n",
       "      <th>17535654</th>\n",
       "      <td>sep 20, 2008</td>\n",
       "      <td>40f5d9e4-2de7-4f2d-ad41-e31a9a9fea27</td>\n",
       "      <td>the smiths</td>\n",
       "      <td>10</td>\n",
       "    </tr>\n",
       "  </tbody>\n",
       "</table>\n",
       "<p>17535655 rows × 4 columns</p>\n",
       "</div>"
      ],
      "text/plain": [
       "                                     user-mboxsha1  \\\n",
       "0         00000c289a1829a808ac09c00daf10bc3c4e223b   \n",
       "1         00000c289a1829a808ac09c00daf10bc3c4e223b   \n",
       "2         00000c289a1829a808ac09c00daf10bc3c4e223b   \n",
       "3         00000c289a1829a808ac09c00daf10bc3c4e223b   \n",
       "4         00000c289a1829a808ac09c00daf10bc3c4e223b   \n",
       "...                                            ...   \n",
       "17535650                              sep 20, 2008   \n",
       "17535651                              sep 20, 2008   \n",
       "17535652                              sep 20, 2008   \n",
       "17535653                              sep 20, 2008   \n",
       "17535654                              sep 20, 2008   \n",
       "\n",
       "                         musicbrainz-artist-id           artist-name  plays  \n",
       "0         3bd73256-3905-4f3a-97e2-8b341527f805       betty blowtorch   2137  \n",
       "1         f2fb0ff0-5679-42ec-a55c-15109ce6e320             die Ärzte   1099  \n",
       "2         b3ae82c2-e60b-4551-a76d-6620f1b456aa     melissa etheridge    897  \n",
       "3         3d6bbeb7-f90e-4d10-b440-e153c0d10b53             elvenking    717  \n",
       "4         bbd2ffd7-17f4-4506-8572-c1ea58c3f9a8  juliette & the licks    706  \n",
       "...                                        ...                   ...    ...  \n",
       "17535650  7ffd711a-b34d-4739-8aab-25e045c246da            turbostaat     12  \n",
       "17535651  9201190d-409f-426b-9339-9bd7492443e2         cuba missouri     11  \n",
       "17535652  e7cf7ff9-ed2f-4315-aca8-bcbd3b2bfa71       little man tate     11  \n",
       "17535653  f6f2326f-6b25-4170-b89d-e235b25508e8             sigur rós     10  \n",
       "17535654  40f5d9e4-2de7-4f2d-ad41-e31a9a9fea27            the smiths     10  \n",
       "\n",
       "[17535655 rows x 4 columns]"
      ]
     },
     "execution_count": 2,
     "metadata": {},
     "output_type": "execute_result"
    }
   ],
   "source": [
    "import pandas as pd\n",
    "df_plays = pd.read_csv('lastfm-dataset-360K/usersha1-artmbid-artname-plays.tsv', \n",
    "                        sep='\\t',\n",
    "                        header=None,\n",
    "                        names=[\"user-mboxsha1\", \"musicbrainz-artist-id\", \"artist-name\", \"plays\"])\n",
    "df_plays"
   ]
  },
  {
   "cell_type": "code",
   "execution_count": 3,
   "metadata": {},
   "outputs": [
    {
     "data": {
      "text/html": [
       "<div>\n",
       "<style scoped>\n",
       "    .dataframe tbody tr th:only-of-type {\n",
       "        vertical-align: middle;\n",
       "    }\n",
       "\n",
       "    .dataframe tbody tr th {\n",
       "        vertical-align: top;\n",
       "    }\n",
       "\n",
       "    .dataframe thead th {\n",
       "        text-align: right;\n",
       "    }\n",
       "</style>\n",
       "<table border=\"1\" class=\"dataframe\">\n",
       "  <thead>\n",
       "    <tr style=\"text-align: right;\">\n",
       "      <th></th>\n",
       "      <th>user-mboxsha1</th>\n",
       "      <th>gender</th>\n",
       "      <th>age</th>\n",
       "      <th>country</th>\n",
       "      <th>signup</th>\n",
       "    </tr>\n",
       "  </thead>\n",
       "  <tbody>\n",
       "    <tr>\n",
       "      <th>0</th>\n",
       "      <td>00000c289a1829a808ac09c00daf10bc3c4e223b</td>\n",
       "      <td>f</td>\n",
       "      <td>22.0</td>\n",
       "      <td>Germany</td>\n",
       "      <td>Feb 1, 2007</td>\n",
       "    </tr>\n",
       "    <tr>\n",
       "      <th>1</th>\n",
       "      <td>00001411dc427966b17297bf4d69e7e193135d89</td>\n",
       "      <td>f</td>\n",
       "      <td>NaN</td>\n",
       "      <td>Canada</td>\n",
       "      <td>Dec 4, 2007</td>\n",
       "    </tr>\n",
       "    <tr>\n",
       "      <th>2</th>\n",
       "      <td>00004d2ac9316e22dc007ab2243d6fcb239e707d</td>\n",
       "      <td>NaN</td>\n",
       "      <td>NaN</td>\n",
       "      <td>Germany</td>\n",
       "      <td>Sep 1, 2006</td>\n",
       "    </tr>\n",
       "    <tr>\n",
       "      <th>3</th>\n",
       "      <td>000063d3fe1cf2ba248b9e3c3f0334845a27a6bf</td>\n",
       "      <td>m</td>\n",
       "      <td>19.0</td>\n",
       "      <td>Mexico</td>\n",
       "      <td>Apr 28, 2008</td>\n",
       "    </tr>\n",
       "    <tr>\n",
       "      <th>4</th>\n",
       "      <td>00007a47085b9aab8af55f52ec8846ac479ac4fe</td>\n",
       "      <td>m</td>\n",
       "      <td>28.0</td>\n",
       "      <td>United States</td>\n",
       "      <td>Jan 27, 2006</td>\n",
       "    </tr>\n",
       "    <tr>\n",
       "      <th>...</th>\n",
       "      <td>...</td>\n",
       "      <td>...</td>\n",
       "      <td>...</td>\n",
       "      <td>...</td>\n",
       "      <td>...</td>\n",
       "    </tr>\n",
       "    <tr>\n",
       "      <th>359342</th>\n",
       "      <td>fffe7823f67b433b45f22056467db921c1d3d7d0</td>\n",
       "      <td>m</td>\n",
       "      <td>25.0</td>\n",
       "      <td>Germany</td>\n",
       "      <td>Jun 24, 2006</td>\n",
       "    </tr>\n",
       "    <tr>\n",
       "      <th>359343</th>\n",
       "      <td>fffe8637bd8234309e871409c7ebef99a720afc1</td>\n",
       "      <td>m</td>\n",
       "      <td>25.0</td>\n",
       "      <td>Brazil</td>\n",
       "      <td>Sep 9, 2007</td>\n",
       "    </tr>\n",
       "    <tr>\n",
       "      <th>359344</th>\n",
       "      <td>fffe8c7f952d9b960a56ed4dcb40a415d924b224</td>\n",
       "      <td>m</td>\n",
       "      <td>20.0</td>\n",
       "      <td>United States</td>\n",
       "      <td>Aug 8, 2007</td>\n",
       "    </tr>\n",
       "    <tr>\n",
       "      <th>359345</th>\n",
       "      <td>ffff9af9ae04d263dae91cb838b1f3a6725f5ffb</td>\n",
       "      <td>m</td>\n",
       "      <td>20.0</td>\n",
       "      <td>Russian Federation</td>\n",
       "      <td>Dec 3, 2005</td>\n",
       "    </tr>\n",
       "    <tr>\n",
       "      <th>359346</th>\n",
       "      <td>ffff9ef87a7d9494ada2f9ade4b9ff637c0759ac</td>\n",
       "      <td>m</td>\n",
       "      <td>21.0</td>\n",
       "      <td>Belgium</td>\n",
       "      <td>Nov 25, 2008</td>\n",
       "    </tr>\n",
       "  </tbody>\n",
       "</table>\n",
       "<p>359347 rows × 5 columns</p>\n",
       "</div>"
      ],
      "text/plain": [
       "                                   user-mboxsha1 gender   age  \\\n",
       "0       00000c289a1829a808ac09c00daf10bc3c4e223b      f  22.0   \n",
       "1       00001411dc427966b17297bf4d69e7e193135d89      f   NaN   \n",
       "2       00004d2ac9316e22dc007ab2243d6fcb239e707d    NaN   NaN   \n",
       "3       000063d3fe1cf2ba248b9e3c3f0334845a27a6bf      m  19.0   \n",
       "4       00007a47085b9aab8af55f52ec8846ac479ac4fe      m  28.0   \n",
       "...                                          ...    ...   ...   \n",
       "359342  fffe7823f67b433b45f22056467db921c1d3d7d0      m  25.0   \n",
       "359343  fffe8637bd8234309e871409c7ebef99a720afc1      m  25.0   \n",
       "359344  fffe8c7f952d9b960a56ed4dcb40a415d924b224      m  20.0   \n",
       "359345  ffff9af9ae04d263dae91cb838b1f3a6725f5ffb      m  20.0   \n",
       "359346  ffff9ef87a7d9494ada2f9ade4b9ff637c0759ac      m  21.0   \n",
       "\n",
       "                   country        signup  \n",
       "0                  Germany   Feb 1, 2007  \n",
       "1                   Canada   Dec 4, 2007  \n",
       "2                  Germany   Sep 1, 2006  \n",
       "3                   Mexico  Apr 28, 2008  \n",
       "4            United States  Jan 27, 2006  \n",
       "...                    ...           ...  \n",
       "359342             Germany  Jun 24, 2006  \n",
       "359343              Brazil   Sep 9, 2007  \n",
       "359344       United States   Aug 8, 2007  \n",
       "359345  Russian Federation   Dec 3, 2005  \n",
       "359346             Belgium  Nov 25, 2008  \n",
       "\n",
       "[359347 rows x 5 columns]"
      ]
     },
     "execution_count": 3,
     "metadata": {},
     "output_type": "execute_result"
    }
   ],
   "source": [
    "df_profiles = pd.read_csv('lastfm-dataset-360K/usersha1-profile.tsv', \n",
    "                           sep='\\t',\n",
    "                           header=None,\n",
    "                           names=[\"user-mboxsha1\", \"gender\", \"age\", \"country\", \"signup\"])\n",
    "df_profiles"
   ]
  },
  {
   "cell_type": "code",
   "execution_count": 4,
   "metadata": {},
   "outputs": [
    {
     "data": {
      "text/plain": [
       "(4837010, 8)"
      ]
     },
     "execution_count": 4,
     "metadata": {},
     "output_type": "execute_result"
    }
   ],
   "source": [
    "countries = [\"United Kingdom\", \"United States\"]\n",
    "df_countries = df_plays.merge(df_profiles.query(\"country in @countries\"))\n",
    "df_countries.shape"
   ]
  },
  {
   "cell_type": "code",
   "execution_count": 5,
   "metadata": {},
   "outputs": [
    {
     "data": {
      "text/plain": [
       "(100070, 3)"
      ]
     },
     "execution_count": 5,
     "metadata": {},
     "output_type": "execute_result"
    }
   ],
   "source": [
    "total_plays = (df_countries\n",
    "               .groupby('musicbrainz-artist-id', as_index=False)\n",
    "               .agg(sum)\n",
    "               .sort_values(\"plays\", ascending=False)\n",
    "               .rename(columns={\"plays\": \"total_plays\"})\n",
    "               .reset_index(drop=True))\n",
    "total_plays.shape"
   ]
  },
  {
   "cell_type": "code",
   "execution_count": 6,
   "metadata": {},
   "outputs": [
    {
     "data": {
      "text/plain": [
       "musicbrainz-artist-id    1d940f58-bff7-451c-b5cb-2406cca45eb3\n",
       "total_plays                                             14738\n",
       "age                                                      1145\n",
       "cumulative_sum                                     1027489130\n",
       "cumulative_percentage                                 90.2369\n",
       "Name: 7000, dtype: object"
      ]
     },
     "execution_count": 6,
     "metadata": {},
     "output_type": "execute_result"
    }
   ],
   "source": [
    "THRESHOLD = 7000\n",
    "total_plays['cumulative_sum'] = total_plays['total_plays'].cumsum()\n",
    "total_plays['cumulative_percentage'] = 100 * total_plays['cumulative_sum'] / total_plays['total_plays'].sum()\n",
    "total_plays.iloc[THRESHOLD]"
   ]
  },
  {
   "cell_type": "code",
   "execution_count": 7,
   "metadata": {},
   "outputs": [
    {
     "data": {
      "text/plain": [
       "(4026262, 12)"
      ]
     },
     "execution_count": 7,
     "metadata": {},
     "output_type": "execute_result"
    }
   ],
   "source": [
    "popular_artists = total_plays[total_plays.index < THRESHOLD]\n",
    "df_popular = (df_countries\n",
    "              .merge(popular_artists, on=\"musicbrainz-artist-id\")\n",
    "              .reset_index(drop=True)\n",
    "              .drop_duplicates(['user-mboxsha1', 'musicbrainz-artist-id']))\n",
    "df_popular.shape"
   ]
  },
  {
   "cell_type": "code",
   "execution_count": 8,
   "metadata": {},
   "outputs": [
    {
     "data": {
      "text/plain": [
       "(4026262, 14)"
      ]
     },
     "execution_count": 8,
     "metadata": {},
     "output_type": "execute_result"
    }
   ],
   "source": [
    "users = df_popular[\"user-mboxsha1\"].unique()\n",
    "users = pd.DataFrame(users)\n",
    "users = users.reset_index()\n",
    "users.columns = [\"user_idx\", \"user-mboxsha1\"]\n",
    "\n",
    "items = df_popular[\"musicbrainz-artist-id\"].unique()\n",
    "items = pd.DataFrame(items)\n",
    "items = items.reset_index()\n",
    "items.columns = [\"item_idx\", \"musicbrainz-artist-id\"]\n",
    "\n",
    "df_combined = (df_popular\n",
    "               .merge(items)\n",
    "               .merge(users))\n",
    "df_combined.shape"
   ]
  },
  {
   "cell_type": "code",
   "execution_count": null,
   "metadata": {},
   "outputs": [],
   "source": [
    "ratings = sparse.lil_matrix((items.shape[0], users.shape[0]))\n",
    "\n",
    "for idx, row in df_combined.iterrows():\n",
    "    ratings[row[\"item_idx\"], row[\"user_idx\"]] = 1"
   ]
  },
  {
   "cell_type": "code",
   "execution_count": 14,
   "metadata": {},
   "outputs": [],
   "source": [
    "ratings = ratings.tocsr()    "
   ]
  },
  {
   "cell_type": "code",
   "execution_count": 10,
   "metadata": {},
   "outputs": [],
   "source": [
    "# sparse.save_npz(\"user_item_ratings.npz\", ratings)\n",
    "# ratings = sparse.load_npz(\"user_item_ratings.npz\")"
   ]
  },
  {
   "cell_type": "code",
   "execution_count": 65,
   "metadata": {},
   "outputs": [
    {
     "data": {
      "text/plain": [
       "NearestNeighbors(algorithm='brute', leaf_size=30, metric='cosine',\n",
       "                 metric_params=None, n_jobs=None, n_neighbors=10, p=2,\n",
       "                 radius=1.0)"
      ]
     },
     "execution_count": 65,
     "metadata": {},
     "output_type": "execute_result"
    }
   ],
   "source": [
    "from sklearn.neighbors import NearestNeighbors\n",
    "\n",
    "knn = NearestNeighbors(metric='cosine', algorithm='brute', n_neighbors=10)\n",
    "knn.fit(ratings)"
   ]
  },
  {
   "cell_type": "code",
   "execution_count": 66,
   "metadata": {},
   "outputs": [],
   "source": [
    "item_mapping = df_combined[[\"musicbrainz-artist-id\", \"artist-name\", \"item_idx\"]].drop_duplicates()"
   ]
  },
  {
   "cell_type": "code",
   "execution_count": 74,
   "metadata": {},
   "outputs": [
    {
     "name": "stdout",
     "output_type": "stream",
     "text": [
      "Recommendations for rolling stones\n",
      "1: the beatles\n",
      "2: bob dylan\n",
      "3: the who\n",
      "4: led zeppelin\n",
      "5: david bowie\n"
     ]
    }
   ],
   "source": [
    "def recommend_items(item_name, model, item_mapping, ratings):\n",
    "    idx = item_mapping[item_mapping[\"artist-name\"] == item_name]\n",
    "    X_pred = ratings[idx[\"item_idx\"], :].reshape(1, -1)\n",
    "    distances, indices = model.kneighbors(X_pred, n_neighbors = 6)\n",
    "    distances = distances.flatten()\n",
    "    indices = indices.flatten()    \n",
    "\n",
    "    print(\"Recommendations for {0}\".format(item_name))\n",
    "    for i in range(1, len(distances)):\n",
    "        rec = item_mapping[item_mapping[\"item_idx\"] == indices[i]].iloc[0]\n",
    "        print('{0}: {1}'.format(i, rec[\"artist-name\"]))\n",
    "\n",
    "recommend_items(\"rolling stones\", knn, item_mapping, ratings)             "
   ]
  }
 ],
 "metadata": {
  "kernelspec": {
   "display_name": "Python 3",
   "language": "python",
   "name": "python3"
  },
  "language_info": {
   "codemirror_mode": {
    "name": "ipython",
    "version": 3
   },
   "file_extension": ".py",
   "mimetype": "text/x-python",
   "name": "python",
   "nbconvert_exporter": "python",
   "pygments_lexer": "ipython3",
   "version": "3.7.6"
  }
 },
 "nbformat": 4,
 "nbformat_minor": 4
}
